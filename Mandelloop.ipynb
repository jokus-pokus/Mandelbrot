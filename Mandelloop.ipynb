{
 "cells": [
  {
   "cell_type": "code",
   "execution_count": 1,
   "metadata": {
    "collapsed": true
   },
   "outputs": [],
   "source": [
    "using Images\n",
    "using Colors\n",
    "using Interpolations"
   ]
  },
  {
   "cell_type": "code",
   "execution_count": 10,
   "metadata": {},
   "outputs": [],
   "source": [
    "for i=1:100\n",
    "    imgx = 1024 #max 30000 (~14GB)\n",
    "    imgy = 1024 #1024;\n",
    "    img = zeros(RGB{Float64},imgx,imgy);\n",
    "    xa = -2\n",
    "    xb = 2\n",
    "    ya = -2\n",
    "    yb = 2\n",
    "    maxIt = 256\n",
    "    f = scaleminmax(0, maxIt)\n",
    "    xy = rand() * 2 * pi\n",
    "    xz = rand() * 2 * pi\n",
    "    xw = rand() * 2 * pi\n",
    "    yz = rand() * 2 * pi\n",
    "    yw = rand() * 2 * pi\n",
    "    zw = rand() * 2 * pi\n",
    "    sxy = sin(xy)\n",
    "    cxy = cos(xy)\n",
    "    sxz = sin(xz)\n",
    "    cxz = cos(xz)\n",
    "    sxw = sin(xw)\n",
    "    cxw = cos(xw)\n",
    "    syz = sin(yz)\n",
    "    cyz = cos(yz)\n",
    "    syw = sin(yw)\n",
    "    cyw = cos(yw)\n",
    "    szw = sin(zw)\n",
    "    czw = cos(zw)\n",
    "    origx = (xa + xb) / 2\n",
    "    origy = (ya + yb) / 2\n",
    "    \n",
    "    for ky = 0:imgx\n",
    "    b = ky * (yb - ya) / (imgy - 1)  + ya\n",
    "        for kx = 0:imgy\n",
    "        a = kx * (xb - xa) / (imgx - 1)  + xa\n",
    "        x = a\n",
    "        y = b\n",
    "        z = 0 # c = 0\n",
    "        w = 0 # d = 0\n",
    "        # 4 Dimensionale Rotation um das Zemtrum der Ebene \n",
    "        x = x - origx\n",
    "        y = y - origy\n",
    "        x0=x*cxy-y*sxy;y=x*sxy+y*cxy;x=x0 # xy-Ebene \n",
    "        x0=x*cxz-z*sxz;z=x*sxz+z*cxz;x=x0 # xz-Ebene \n",
    "        x0=x*cxw-z*sxw;w=x*sxw+z*cxw;x=x0 # xw-Ebene \n",
    "        y0=y*cyz-z*syz;z=y*syz+z*cyz;y=y0 # yz-Ebene \n",
    "        y0=y*cyw-w*syw;w=y*syw+w*cyw;y=y0 # yw-Ebene \n",
    "        z0=z*czw-w*szw;w=z*szw+w*czw;z=z0 # zw-Ebene \n",
    "        x = x + origx\n",
    "        y = y + origy\n",
    "        cx = x\n",
    "        cy = y\n",
    "        cz = z\n",
    "        cw = w\n",
    "         for i = 0:maxIt\n",
    "            # suche in den Quaternionen\n",
    "            x0 = x * x - y * y - z * z - w * w + cx\n",
    "            y = 2 * x * y + cy\n",
    "            z = 2 * x * z + cz\n",
    "            w = 2 * x * w + cw\n",
    "            x = x0\n",
    "            if x * x + y * y + z * z + w * w > 4\n",
    "                break\n",
    "            end\n",
    "            img[kx,ky]= RGB(f(i % 4 * 64), f(i % 8 * 32), f(i % 16 * 16))\n",
    "         end\n",
    "        end\n",
    "    end\n",
    "    save(\"$(i).jpg\", img)\n",
    "    \n",
    "end"
   ]
  },
  {
   "cell_type": "code",
   "execution_count": null,
   "metadata": {
    "collapsed": true
   },
   "outputs": [],
   "source": []
  }
 ],
 "metadata": {
  "kernelspec": {
   "display_name": "Julia 1.0.1",
   "language": "julia",
   "name": "julia-1.0"
  },
  "language_info": {
   "file_extension": ".jl",
   "mimetype": "application/julia",
   "name": "julia",
   "version": "1.0.1"
  }
 },
 "nbformat": 4,
 "nbformat_minor": 2
}
